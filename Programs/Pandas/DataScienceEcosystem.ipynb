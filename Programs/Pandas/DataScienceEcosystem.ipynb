{
  "nbformat": 4,
  "nbformat_minor": 0,
  "metadata": {
    "colab": {
      "provenance": []
    },
    "kernelspec": {
      "name": "python3",
      "display_name": "Python 3"
    },
    "language_info": {
      "name": "python"
    }
  },
  "cells": [
    {
      "cell_type": "markdown",
      "source": [
        "# Data Science Tools and Ecosystem"
      ],
      "metadata": {
        "id": "ytSBj0kvbTYX"
      }
    },
    {
      "cell_type": "markdown",
      "source": [
        "In this notebook, Data Science Tools and Ecosystem are summarized.\n"
      ],
      "metadata": {
        "id": "mheUq2VXboMK"
      }
    },
    {
      "cell_type": "markdown",
      "source": [
        "**Objectives:**\n",
        "\n",
        "\n",
        "\n",
        "* List popular languages for Data Science\n",
        "* List open source tools for Data Science\n",
        "* Evaluate some arithmetic expressions in Python\n",
        "\n"
      ],
      "metadata": {
        "id": "3xvirRZ2eNws"
      }
    },
    {
      "cell_type": "markdown",
      "source": [
        "Some of the popular languages that Data Scientists use are:\n",
        "\n",
        "\n",
        "\n",
        "1. Python\n",
        "2. R\n",
        "3. SQL\n",
        "4. Julia\n",
        "5. Scala\n",
        "\n"
      ],
      "metadata": {
        "id": "x6Swfkv5bxLT"
      }
    },
    {
      "cell_type": "markdown",
      "source": [
        "Some of the commonly used libraries used by Data Scientists include:\n",
        "\n",
        "1. Pandas\n",
        "2. Numpy\n",
        "3. Matplotlib\n",
        "4. Scikit Learn\n",
        "5. Seaborn"
      ],
      "metadata": {
        "id": "DXFb2n9LiEcs"
      }
    },
    {
      "cell_type": "markdown",
      "source": [
        "| Data Science Tools    |\n",
        "| -------- |\n",
        "| Jupyter Notebook  |\n",
        "| Apache Hadoop |\n",
        "| RStudio    |\n"
      ],
      "metadata": {
        "id": "nzJN8-J8cOub"
      }
    },
    {
      "cell_type": "markdown",
      "source": [
        "### Below are a few examples of evaluating arithmetic expressions in Python."
      ],
      "metadata": {
        "id": "_PgVLoOydWNm"
      }
    },
    {
      "cell_type": "code",
      "execution_count": 1,
      "metadata": {
        "colab": {
          "base_uri": "https://localhost:8080/"
        },
        "id": "ecVpmonTZPq5",
        "outputId": "3f3267ab-dd0b-4080-d511-21a7662475d1"
      },
      "outputs": [
        {
          "output_type": "execute_result",
          "data": {
            "text/plain": [
              "17"
            ]
          },
          "metadata": {},
          "execution_count": 1
        }
      ],
      "source": [
        "# This a simple arithmetic expression to mutiply then add integers\n",
        "(3*4)+5"
      ]
    },
    {
      "cell_type": "code",
      "source": [
        "# This will convert 200 minutes to hours by diving by 60\n",
        "200/60"
      ],
      "metadata": {
        "colab": {
          "base_uri": "https://localhost:8080/"
        },
        "id": "IIvzmvMOdm-w",
        "outputId": "1f49f578-bdaf-403c-ba71-7af8716b50fb"
      },
      "execution_count": 2,
      "outputs": [
        {
          "output_type": "execute_result",
          "data": {
            "text/plain": [
              "3.3333333333333335"
            ]
          },
          "metadata": {},
          "execution_count": 2
        }
      ]
    },
    {
      "cell_type": "markdown",
      "source": [
        "## Author\n",
        "Sarthak Karandikar"
      ],
      "metadata": {
        "id": "PlWGxwdOe2FN"
      }
    }
  ]
}